{
 "cells": [
  {
   "cell_type": "markdown",
   "metadata": {},
   "source": [
    "**Exercise 2.5 from Sutton, Richard S. ; Barto, Andrew G.: *Reinforcement Learning: An Introduction (pg52)***\n",
    "\n",
    "*Design and conduct an experiment to demonstrate the difficulties that sample-average methods have for nonstationary problems. Use a modified version of the 10-armed testbed in which all the q(a) start out equal and then take independent random walks. Prepare plots like Figure 2.1 for an action-value method using sample averages, incrementally computed by α = 1/k, and another action-value method using a constant step-size parameter, α = 0.1. Use ε = 0.1 and, if necessary, runs longer than 1000 plays.*"
   ]
  },
  {
   "cell_type": "code",
   "execution_count": 1,
   "metadata": {},
   "outputs": [],
   "source": [
    "import numpy as np\n",
    "import matplotlib.pyplot as plt\n",
    "import random"
   ]
  },
  {
   "cell_type": "code",
   "execution_count": 2,
   "metadata": {},
   "outputs": [],
   "source": [
    "# Define the random walk\n",
    "def RandomWalk(x):\n",
    "    '''\n",
    "    x is a vector, each element takes a random walk independently\n",
    "    This function return a new vector where each element takes a step by the rule of random walk'''\n",
    "    \n",
    "    dim=np.size(x)\n",
    "    walk_set=[-1,1,0]\n",
    "    for i in range(dim):\n",
    "        x[i]=x[i]+np.random.choice(walk_set)\n",
    "    \n",
    "    return x"
   ]
  },
  {
   "cell_type": "code",
   "execution_count": 3,
   "metadata": {},
   "outputs": [],
   "source": [
    "def epsilon_greedy(x, epsilon, arms):\n",
    "    '''\n",
    "    x is a vector holding value estimates for each action a at the timestep\n",
    "    epsilon is the probability with which the agent doesn't select the greedy action\n",
    "    arms are the number of actions teh bandit could select\n",
    "    This function returns the column index to select\n",
    "    '''\n",
    "    \n",
    "    r = random.uniform(0,1)\n",
    "    i = np.argmax(x) # find index of highest value action\n",
    "    column_indexes = list(range(0,arms))\n",
    "    \n",
    "    # Choose a random action (not the max) if we fall into epsilon\n",
    "    if r <= epsilon:\n",
    "        column_indexes.remove(i)\n",
    "        i = random.choice(column_indexes) # choose a random action index\n",
    "        return i\n",
    "    \n",
    "    # Choose greedily if we don't fall into epsilon\n",
    "    else:\n",
    "        return i    "
   ]
  },
  {
   "cell_type": "code",
   "execution_count": 6,
   "metadata": {},
   "outputs": [],
   "source": [
    "def multi_task(epsilon=0.1, max_iter=10000, tasks=500, arms=10, alpha=0.1):\n",
    "    '''\n",
    "    epsilon = the probability te agent doesn't selection a greedy action\n",
    "    max_iter = the number of steps taken by the value function in the random walk\n",
    "    tasks = the number of random bandits we will average across\n",
    "    arms = the number of actions a bandit can take at each step\n",
    "    alpha = the constant stepsize parameter used to calcuate new reward estimates\n",
    "    \n",
    "    This function returns two vectors (constR and variabR) that quanitfy the average reward\n",
    "    achieved across 500 bandits based on reward estimated via constant/variable stepsizes\n",
    "    at each timestep\n",
    "    '''\n",
    "    \n",
    "    rows, cols = tasks, arms\n",
    "    \n",
    "    # create true value of arms with random walk\n",
    "    q = np.array( [([0]*arms) for i in range(rows)] ) \n",
    "    constQ = np.array( [([0]*cols) for i in range(rows)] )\n",
    "    variabQ = np.array( [([0]*cols) for i in range(rows)] )\n",
    "    constN = np.array( [([0]*cols) for i in range(rows)] )\n",
    "    variabN = np.array( [([0]*cols) for i in range(rows)] )\n",
    "    constR = np.zeros(max_iter)\n",
    "    variabR = np.zeros(max_iter)\n",
    "    \n",
    "    # iteration loop (within each iteration we have a random number of bandits (tasks) that we will average over)\n",
    "    for i in range(max_iter):\n",
    "        \n",
    "        # task loop (the random bandits we cycle through per each iteration)\n",
    "        for j in range(tasks):\n",
    "            # random walk of each arm\n",
    "            task_q = q[j, :]\n",
    "            task_q = RandomWalk(task_q)\n",
    "            q[j,:] = task_q\n",
    "        \n",
    "            # CONSTANT STEPSIZE\n",
    "            \n",
    "            # get one random arm from set of tasks\n",
    "            task_constQ = constQ[j,:]\n",
    "            task_constN = constN[j,:]\n",
    "            \n",
    "            # find the arm to pick\n",
    "            action_index_c = epsilon_greedy(task_constQ, epsilon, arms)\n",
    "            \n",
    "            # get reward\n",
    "            reward_const = q[j,action_index_c]\n",
    "            \n",
    "            # add reward to total rewards for this iteration (to be averaged later)\n",
    "            constR[i] = constR[i] + reward_const\n",
    "            \n",
    "            # update estimated value of arm based on observation\n",
    "            task_constQ[action_index_c] = task_constQ[action_index_c] + alpha*(reward_const-task_constQ[action_index_c])\n",
    "            constQ[j,:] = task_constQ\n",
    "            \n",
    "            # update number of times arm has been selected\n",
    "            task_constN[action_index_c] = task_constN[action_index_c] + 1\n",
    "            constN[j:] = task_constN\n",
    "            \n",
    "            # VARYING STEPSIZE\n",
    "            \n",
    "            # get one arm from set of tasks\n",
    "            task_variabQ = variabQ[j,:]\n",
    "            task_variabN = variabN[j,:]\n",
    "            \n",
    "            # find arm to pick\n",
    "            action_index_v = epsilon_greedy(task_variabQ, epsilon, arms)\n",
    "            \n",
    "            # get reward from true values of arms\n",
    "            reward_variab = q[j,action_index_v]\n",
    "            \n",
    "            # add reward to total rewards for this iteration\n",
    "            variabR[i] = variabR[i] + reward_variab\n",
    "            \n",
    "            # update number of times arm has been selected\n",
    "            task_variabN[action_index_v] = task_variabN[action_index_v] + 1\n",
    "            variabN[j,:] = task_variabN\n",
    "            \n",
    "            # set stepsize to 1 for first iteration\n",
    "            if i == 0:\n",
    "                beta = 1\n",
    "            else:\n",
    "                beta = (1/task_variabN[action_index_v])\n",
    "            \n",
    "            # update estimated value of action based on observation \n",
    "            task_variabQ[action_index_v] = task_variabQ[action_index_v] +\\\n",
    "                                           beta*(reward_variab-task_variabQ[action_index_v])\n",
    "            variabQ[j,:] = task_variabQ\n",
    "        \n",
    "        # get average reward across all bandits for each iteration\n",
    "        constR[i] = constR[i] / tasks\n",
    "        variabR [i] = variabR[i] / tasks\n",
    "        \n",
    "    return constR, variabR\n",
    "        "
   ]
  },
  {
   "cell_type": "code",
   "execution_count": 9,
   "metadata": {},
   "outputs": [
    {
     "data": {
      "image/png": "[encoded data removed]",
      "text/plain": [
       "<Figure size 720x360 with 1 Axes>"
      ]
     },
     "metadata": {
      "needs_background": "light"
     },
     "output_type": "display_data"
    }
   ],
   "source": [
    "# calculate and plot\n",
    "R_c_step, R_v_step = multi_task()\n",
    "\n",
    "fig = plt.figure(figsize=(10,5))\n",
    "fig.add_subplot(111)\n",
    "plt.xlabel('steps')\n",
    "plt.ylabel('average reward')\n",
    "plt.plot(R_c_step, 'r', label='constant stepsize')\n",
    "plt.plot(R_v_step, 'g', label='varying stepsize')\n",
    "plt.legend(loc='upper left')\n",
    "plt.savefig('../../notes/images/ex2.5.png', dpi=300)\n",
    "plt.show()"
   ]
  },
  {
   "cell_type": "markdown",
   "metadata": {},
   "source": [
    "After 10000 steps of the value function, each following a random walk so as to make this problem non-stationary, the algorithm with constant stepsize has performed slighlty better than that with varying stepsize. To be clear, the constant stepsize updating formula is of the form:\n",
    "\n",
    "$Q_k+1 = Q_k + \\alpha[R_k - Q_k]$\n",
    "\n",
    "This means that recent updates to the our estimate of the an arm's value are weighted more heavily than those in the past (a recency weighted average) , ideal for a problem where the values are non-stationary. In contrast, the varying stepsize algorithm weights all rewards equally, and demostrably does a worse job tracking the non-staionary values of the bandit arms."
   ]
  }
 ],
 "metadata": {
  "kernelspec": {
   "display_name": "Python 3",
   "language": "python",
   "name": "python3"
  },
  "language_info": {
   "codemirror_mode": {
    "name": "ipython",
    "version": 3
   },
   "file_extension": ".py",
   "mimetype": "text/x-python",
   "name": "python",
   "nbconvert_exporter": "python",
   "pygments_lexer": "ipython3",
   "version": "3.7.9"
  }
 },
 "nbformat": 4,
 "nbformat_minor": 2
}
